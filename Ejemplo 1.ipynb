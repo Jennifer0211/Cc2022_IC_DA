{
 "cells": [
  {
   "cell_type": "code",
   "execution_count": 1,
   "id": "71283af1",
   "metadata": {},
   "outputs": [],
   "source": [
    "import numpy as np"
   ]
  },
  {
   "cell_type": "code",
   "execution_count": 3,
   "id": "ec5dd6fb",
   "metadata": {},
   "outputs": [
    {
     "name": "stdout",
     "output_type": "stream",
     "text": [
      "Hola como estas?\n"
     ]
    }
   ],
   "source": [
    "print ('Hola como estas?')"
   ]
  },
  {
   "cell_type": "markdown",
   "id": "537e9374",
   "metadata": {},
   "source": [
    "Ejemplo de multiplicacion en JN"
   ]
  },
  {
   "cell_type": "code",
   "execution_count": 6,
   "id": "815d6713",
   "metadata": {},
   "outputs": [
    {
     "name": "stdout",
     "output_type": "stream",
     "text": [
      "40\n"
     ]
    }
   ],
   "source": [
    "x = 20\n",
    "y = 2\n",
    "\n",
    "r = x * 2\n",
    "print (r)\n"
   ]
  },
  {
   "cell_type": "code",
   "execution_count": 7,
   "id": "18514062",
   "metadata": {},
   "outputs": [
    {
     "data": {
      "text/plain": [
       "40"
      ]
     },
     "execution_count": 7,
     "metadata": {},
     "output_type": "execute_result"
    }
   ],
   "source": [
    "r"
   ]
  },
  {
   "cell_type": "code",
   "execution_count": 8,
   "id": "87d403df",
   "metadata": {},
   "outputs": [
    {
     "name": "stdout",
     "output_type": "stream",
     "text": [
      "0\n",
      "1\n",
      "2\n",
      "3\n",
      "4\n"
     ]
    }
   ],
   "source": [
    "for i in range (0, 5):\n",
    "    print (i)\n"
   ]
  },
  {
   "cell_type": "code",
   "execution_count": 10,
   "id": "e57d07af",
   "metadata": {},
   "outputs": [],
   "source": [
    "##Hola "
   ]
  },
  {
   "cell_type": "markdown",
   "id": "aa7cb80d",
   "metadata": {},
   "source": []
  }
 ],
 "metadata": {
  "kernelspec": {
   "display_name": "Python 3",
   "language": "python",
   "name": "python3"
  },
  "language_info": {
   "codemirror_mode": {
    "name": "ipython",
    "version": 3
   },
   "file_extension": ".py",
   "mimetype": "text/x-python",
   "name": "python",
   "nbconvert_exporter": "python",
   "pygments_lexer": "ipython3",
   "version": "3.8.8"
  }
 },
 "nbformat": 4,
 "nbformat_minor": 5
}
